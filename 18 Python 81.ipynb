{
 "cells": [
  {
   "cell_type": "markdown",
   "id": "67ef233c-c1c0-4801-a9c5-f6043fad339f",
   "metadata": {},
   "source": [
    "#class methods : bound to the class, can access and modify methods and attributes of all instances"
   ]
  },
  {
   "cell_type": "code",
   "execution_count": 5,
   "id": "feadf2b6-3c1f-41d8-9d63-d76bf36bf6c6",
   "metadata": {},
   "outputs": [],
   "source": [
    "class student:\n",
    "    def __init__(self,name):#methos of an instance\n",
    "        self.name = name"
   ]
  },
  {
   "cell_type": "code",
   "execution_count": 2,
   "id": "30d90426-87be-4efa-8261-9ffe3620b2db",
   "metadata": {},
   "outputs": [],
   "source": [
    "obj = student(\"Ajay\")"
   ]
  },
  {
   "cell_type": "code",
   "execution_count": 3,
   "id": "611d765b-3fc8-4cf7-90f8-bf3fddc8d8f0",
   "metadata": {},
   "outputs": [
    {
     "data": {
      "text/plain": [
       "'Ajay'"
      ]
     },
     "execution_count": 3,
     "metadata": {},
     "output_type": "execute_result"
    }
   ],
   "source": [
    "obj.name"
   ]
  },
  {
   "cell_type": "code",
   "execution_count": 11,
   "id": "0d701329-f2fb-4b35-a326-50f1cf26d86f",
   "metadata": {},
   "outputs": [],
   "source": [
    "class student:\n",
    "    def __init__(self,name):#instance method\n",
    "        self.name = name\n",
    "    @classmethod   #bound to the class\n",
    "    def student_details(cls, name):\n",
    "        return cls(name)"
   ]
  },
  {
   "cell_type": "code",
   "execution_count": 12,
   "id": "67a302f6-385c-4fe2-a1b2-995fb0502095",
   "metadata": {},
   "outputs": [],
   "source": [
    "obj1 = student.student_details(\"harsh\")"
   ]
  },
  {
   "cell_type": "code",
   "execution_count": 13,
   "id": "89f4342a-ab27-45ed-8906-c16ee77b86ce",
   "metadata": {},
   "outputs": [
    {
     "data": {
      "text/plain": [
       "'harsh'"
      ]
     },
     "execution_count": 13,
     "metadata": {},
     "output_type": "execute_result"
    }
   ],
   "source": [
    "obj1.name"
   ]
  },
  {
   "cell_type": "code",
   "execution_count": 14,
   "id": "4ff6292b-8ba5-4cf5-995d-3bc71bb2b710",
   "metadata": {},
   "outputs": [],
   "source": [
    "class student:\n",
    "    def __init__(self,name):#instance method\n",
    "        self.name = name\n",
    "    @classmethod   #bound to the class\n",
    "    def student_details(cls, name1):\n",
    "        return cls(name1)"
   ]
  },
  {
   "cell_type": "code",
   "execution_count": 15,
   "id": "5e2e8e67-e947-4da6-9e56-7251ce0a5f18",
   "metadata": {},
   "outputs": [],
   "source": [
    "stud = student.student_details(\"sanjay\")"
   ]
  },
  {
   "cell_type": "code",
   "execution_count": 16,
   "id": "b2c4f5f9-77cb-4549-bd2c-f0df2ec4bb89",
   "metadata": {},
   "outputs": [
    {
     "data": {
      "text/plain": [
       "'sanjay'"
      ]
     },
     "execution_count": 16,
     "metadata": {},
     "output_type": "execute_result"
    }
   ],
   "source": [
    "stud.name"
   ]
  },
  {
   "cell_type": "code",
   "execution_count": 21,
   "id": "384100ba-bb3f-40ed-9565-0bd01782bf94",
   "metadata": {},
   "outputs": [],
   "source": [
    "class student:\n",
    "\n",
    "    total_students = 0\n",
    "    def __init__(self,name):#instance method\n",
    "        self.name = name\n",
    "        student.total_students = student.total_students + 1\n",
    "        \n",
    "    @classmethod   #bound to the class\n",
    "    def get_total_students(cls):\n",
    "        return cls.total_students"
   ]
  },
  {
   "cell_type": "code",
   "execution_count": 20,
   "id": "9923a5fe-5542-412e-a3ab-8ffb3bc0cb47",
   "metadata": {},
   "outputs": [
    {
     "data": {
      "text/plain": [
       "0"
      ]
     },
     "execution_count": 20,
     "metadata": {},
     "output_type": "execute_result"
    }
   ],
   "source": [
    "student.total_students"
   ]
  },
  {
   "cell_type": "code",
   "execution_count": 22,
   "id": "7e58748d-bfa7-4760-a471-191996085492",
   "metadata": {},
   "outputs": [],
   "source": [
    "std1 = student(\"Ajay\")"
   ]
  },
  {
   "cell_type": "code",
   "execution_count": 23,
   "id": "9aca3c52-ddcb-460d-b6f7-a7abc860ace2",
   "metadata": {},
   "outputs": [],
   "source": [
    "std2 = student(\"Bijay\")"
   ]
  },
  {
   "cell_type": "code",
   "execution_count": 25,
   "id": "96a852c1-aeed-42a6-a183-eed56ab91390",
   "metadata": {},
   "outputs": [
    {
     "data": {
      "text/plain": [
       "2"
      ]
     },
     "execution_count": 25,
     "metadata": {},
     "output_type": "execute_result"
    }
   ],
   "source": [
    "student.get_total_students()"
   ]
  },
  {
   "cell_type": "code",
   "execution_count": 26,
   "id": "1db45454-758b-463d-94b1-141a1ffd9bc8",
   "metadata": {},
   "outputs": [],
   "source": [
    "#To make external class method to part of the class\n",
    "class student:\n",
    "\n",
    "    total_students = 0\n",
    "    def __init__(self,name):#instance method\n",
    "        self.name = name\n",
    "        student.total_students = student.total_students + 1\n",
    "        \n",
    "    @classmethod   #bound to the class\n",
    "    def get_total_students(cls):\n",
    "        return cls.total_students"
   ]
  },
  {
   "cell_type": "code",
   "execution_count": 27,
   "id": "7c6fd533-c4e5-4fcc-8c82-e2a1b714ea9d",
   "metadata": {},
   "outputs": [],
   "source": [
    "def course_details(cls, course_name):\n",
    "    print(\"The details of the course is:\", course_name)"
   ]
  },
  {
   "cell_type": "code",
   "execution_count": 29,
   "id": "7980a8b7-b9f2-457c-bff0-3870c9c1c53b",
   "metadata": {},
   "outputs": [],
   "source": [
    "student.course_detail = classmethod(course_details) #adding the external class method"
   ]
  },
  {
   "cell_type": "code",
   "execution_count": 30,
   "id": "68a234fc-8fb9-41f8-95de-5e3bb7a5f6be",
   "metadata": {},
   "outputs": [
    {
     "name": "stdout",
     "output_type": "stream",
     "text": [
      "The details of the course is: Data Science\n"
     ]
    }
   ],
   "source": [
    "student.course_detail(\"Data Science\")"
   ]
  },
  {
   "cell_type": "code",
   "execution_count": 31,
   "id": "a8c130e9-7861-4c91-8b98-a60911e838f9",
   "metadata": {},
   "outputs": [],
   "source": [
    "#delete any class method\n",
    "del student.course_detail"
   ]
  },
  {
   "cell_type": "code",
   "execution_count": 32,
   "id": "d790dc5b-c8f3-463d-89f4-b5cfe24c3663",
   "metadata": {},
   "outputs": [],
   "source": [
    "# student. >>>>>>>>>do tab and then it'll not show course_detils"
   ]
  },
  {
   "cell_type": "code",
   "execution_count": 33,
   "id": "dc31095f-ecff-47cf-a728-d3caf1786bad",
   "metadata": {},
   "outputs": [
    {
     "data": {
      "text/plain": [
       "0"
      ]
     },
     "execution_count": 33,
     "metadata": {},
     "output_type": "execute_result"
    }
   ],
   "source": [
    "student.get_total_students()"
   ]
  },
  {
   "cell_type": "markdown",
   "id": "d0eef33f-ee5f-4b9c-9410-4b8a795917e8",
   "metadata": {},
   "source": [
    "delattr(student, \"get_total_students\") #get_total_students is deleted now #run 2nd time thats why thrown error"
   ]
  },
  {
   "cell_type": "markdown",
   "id": "e5002d43-796e-4097-85c3-c9cbd6341dda",
   "metadata": {},
   "source": [
    "#static method >> it doesn't have access or modify class, work with the parameter that is passed, asts like simple function"
   ]
  },
  {
   "cell_type": "code",
   "execution_count": 37,
   "id": "d0a54ca8-ea17-488b-8dfa-8640a707c93a",
   "metadata": {},
   "outputs": [],
   "source": [
    "class calculator:\n",
    "    @staticmethod\n",
    "    def add(x, y):\n",
    "        return x+y\n",
    "        \n",
    "    @staticmethod\n",
    "    def subtract(x, y):\n",
    "        return x-y"
   ]
  },
  {
   "cell_type": "code",
   "execution_count": 38,
   "id": "03557074-db69-4e67-b824-12a248a6d624",
   "metadata": {},
   "outputs": [
    {
     "data": {
      "text/plain": [
       "3"
      ]
     },
     "execution_count": 38,
     "metadata": {},
     "output_type": "execute_result"
    }
   ],
   "source": [
    "calculator.add(1,2)"
   ]
  },
  {
   "cell_type": "code",
   "execution_count": 39,
   "id": "194de938-b4f5-49da-9cf2-9caeb54e358d",
   "metadata": {},
   "outputs": [
    {
     "data": {
      "text/plain": [
       "-1"
      ]
     },
     "execution_count": 39,
     "metadata": {},
     "output_type": "execute_result"
    }
   ],
   "source": [
    "calculator.subtract(2,3)"
   ]
  },
  {
   "cell_type": "code",
   "execution_count": 42,
   "id": "a4a1153d-0bf4-41e3-bff1-5bbcf0156d74",
   "metadata": {},
   "outputs": [
    {
     "data": {
      "text/plain": [
       "[__main__.calculator, object]"
      ]
     },
     "execution_count": 42,
     "metadata": {},
     "output_type": "execute_result"
    }
   ],
   "source": [
    "calculator.mro()"
   ]
  },
  {
   "cell_type": "code",
   "execution_count": null,
   "id": "504aa033-c9eb-478e-8bdc-ccf11894f186",
   "metadata": {},
   "outputs": [],
   "source": []
  },
  {
   "cell_type": "code",
   "execution_count": null,
   "id": "88a6cc5f-58d7-49ee-8b99-6e0bc27f1ef1",
   "metadata": {},
   "outputs": [],
   "source": []
  },
  {
   "cell_type": "code",
   "execution_count": null,
   "id": "d7389181-ccbc-4330-b751-22c73e942eea",
   "metadata": {},
   "outputs": [],
   "source": []
  }
 ],
 "metadata": {
  "kernelspec": {
   "display_name": "Python [conda env:base] *",
   "language": "python",
   "name": "conda-base-py"
  },
  "language_info": {
   "codemirror_mode": {
    "name": "ipython",
    "version": 3
   },
   "file_extension": ".py",
   "mimetype": "text/x-python",
   "name": "python",
   "nbconvert_exporter": "python",
   "pygments_lexer": "ipython3",
   "version": "3.13.5"
  }
 },
 "nbformat": 4,
 "nbformat_minor": 5
}
